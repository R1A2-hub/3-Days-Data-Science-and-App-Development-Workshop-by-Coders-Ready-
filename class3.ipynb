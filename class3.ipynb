{
  "nbformat": 4,
  "nbformat_minor": 0,
  "metadata": {
    "colab": {
      "provenance": []
    },
    "kernelspec": {
      "name": "python3",
      "display_name": "Python 3"
    },
    "language_info": {
      "name": "python"
    }
  },
  "cells": [
    {
      "cell_type": "code",
      "execution_count": null,
      "metadata": {
        "colab": {
          "base_uri": "https://localhost:8080/"
        },
        "id": "wvXBYaRoy0J2",
        "outputId": "1dec06ae-5e5a-41f1-9dc9-c0b5568b169c"
      },
      "outputs": [
        {
          "output_type": "stream",
          "name": "stdout",
          "text": [
            "<class 'list'>\n"
          ]
        }
      ],
      "source": [
        "print(type([]))\n"
      ]
    },
    {
      "cell_type": "code",
      "source": [
        "class sample :\n",
        "  pass"
      ],
      "metadata": {
        "id": "GMm4Hb8GzL9I"
      },
      "execution_count": null,
      "outputs": []
    },
    {
      "cell_type": "code",
      "source": [
        "x=sample()"
      ],
      "metadata": {
        "id": "ptY_nzOqzL6u"
      },
      "execution_count": null,
      "outputs": []
    },
    {
      "cell_type": "code",
      "source": [
        "print(type(x))"
      ],
      "metadata": {
        "colab": {
          "base_uri": "https://localhost:8080/"
        },
        "id": "RjbqWwtnzL3p",
        "outputId": "27aadf76-aaf7-4576-9e03-10d556db6367"
      },
      "execution_count": null,
      "outputs": [
        {
          "output_type": "stream",
          "name": "stdout",
          "text": [
            "<class '__main__.sample'>\n"
          ]
        }
      ]
    },
    {
      "cell_type": "code",
      "source": [
        "class Dog:\n",
        "  def _init_(self,breed,name):\n",
        "    self.breed=breed\n",
        "    "
      ],
      "metadata": {
        "id": "ffnMX-bUzLyj"
      },
      "execution_count": null,
      "outputs": []
    },
    {
      "cell_type": "code",
      "source": [
        "tommmy= Dog\n",
        " "
      ],
      "metadata": {
        "id": "IOOyOkG_zLwG"
      },
      "execution_count": null,
      "outputs": []
    },
    {
      "cell_type": "code",
      "source": [
        "class Dog:\n",
        "  def _init_(self,breed,name):\n",
        "    self.breed=breed\n",
        "    self.name=name"
      ],
      "metadata": {
        "id": "l1HVeI_oJzIz"
      },
      "execution_count": null,
      "outputs": []
    },
    {
      "cell_type": "code",
      "source": [
        "\n",
        "class circle:\n",
        "     pi=3.14\n",
        "     def _init_(self,radius=1):\n",
        "       self.radius=radius\n",
        "       self.area=radius*radius*circle.pi\n",
        "\n",
        "     def setRadius(self,new_radius):\n",
        "       self.radius=new_radius\n",
        "       self.area=new_radius*new_radius*self.pi\n",
        "\n",
        "     def getcircumference(self):\n",
        "       return self.radius*self.pi*2    "
      ],
      "metadata": {
        "id": "8FETxn1oLCUn"
      },
      "execution_count": 34,
      "outputs": []
    },
    {
      "cell_type": "code",
      "source": [
        "c1 =circle()\n"
      ],
      "metadata": {
        "id": "OIxs1cs9zLq3"
      },
      "execution_count": 45,
      "outputs": []
    },
    {
      "cell_type": "code",
      "source": [
        "c1=c1"
      ],
      "metadata": {
        "id": "sgBv1rAnPPee"
      },
      "execution_count": 49,
      "outputs": []
    },
    {
      "cell_type": "code",
      "source": [
        "class track:\n",
        "  def _init_(self,coor1,coor2):\n",
        "    self.coor1=coor1\n",
        "    self.coor2=coor2\n",
        "\n",
        "\n",
        "    def distance(self):\n",
        "      x1,y1=self.coor1\n",
        "      x2,y2=self.coor2\n",
        "      return ((x2-x1)**2 +(y2-y1)**2)**0.5\n",
        "\n",
        "\n",
        "    def distance(self):\n",
        "      x1,y1=self.coor1\n",
        "      x2,y2=self.coor2\n",
        "      return (y2-y1)/(x2-x1)\n",
        "\n",
        "      "
      ],
      "metadata": {
        "id": "akcoz1fHzLoB"
      },
      "execution_count": null,
      "outputs": []
    },
    {
      "cell_type": "code",
      "source": [
        "c1=(12,9)\n",
        "c2=(3,8)\n"
      ],
      "metadata": {
        "id": "D4Glu7FAzLlM"
      },
      "execution_count": null,
      "outputs": []
    },
    {
      "cell_type": "code",
      "source": [
        " search = track()  "
      ],
      "metadata": {
        "id": "IfX2jehWzLiX"
      },
      "execution_count": 64,
      "outputs": []
    },
    {
      "cell_type": "code",
      "source": [
        "find.distance()"
      ],
      "metadata": {
        "id": "DyN66dfxzLXZ"
      },
      "execution_count": null,
      "outputs": []
    },
    {
      "cell_type": "code",
      "source": [
        "class Account:\n",
        "  def _init_(self,owner,balance=0):\n",
        "    self.owner=owner\n",
        "    self.balance=balance\n",
        "\n",
        "    def _str_(self):\n",
        "      return f'Account owner:           {self.owner}\\nAccount balance:    ${self.balance}'\n",
        "\n",
        "\n",
        "    def deposit(self,dep_amt):\n",
        "      self.balance += dep_amt\n",
        "      print('Deposit Accepted')\n",
        "\n",
        "\n",
        "    def withdraw(self,wd_amt):\n",
        "      if self.balance >= wd_amt:\n",
        "        self.balance -= wd_amt\n",
        "        print('Withdraw Accepted')\n",
        "\n",
        "      else:\n",
        "        print('Funds unavilable')\n",
        "            "
      ],
      "metadata": {
        "id": "TJjq5DG8zLSa"
      },
      "execution_count": 66,
      "outputs": []
    },
    {
      "cell_type": "code",
      "source": [
        "acc1=Account()\n",
        "class Account:\n",
        "   owner='rahul'\n",
        "   money=20000\n",
        "\n"
      ],
      "metadata": {
        "id": "uRdZQgHjzK-s"
      },
      "execution_count": 74,
      "outputs": []
    },
    {
      "cell_type": "code",
      "source": [
        "print(acc1)"
      ],
      "metadata": {
        "id": "mdqXymHCM_i4",
        "colab": {
          "base_uri": "https://localhost:8080/"
        },
        "outputId": "47be5153-f6fe-43e0-99a2-2674849ec838"
      },
      "execution_count": 75,
      "outputs": [
        {
          "output_type": "stream",
          "name": "stdout",
          "text": [
            "<__main__.Account object at 0x7f83797e8400>\n"
          ]
        }
      ]
    },
    {
      "cell_type": "code",
      "source": [
        "Account.owner"
      ],
      "metadata": {
        "id": "9auUW2dKM_5R",
        "colab": {
          "base_uri": "https://localhost:8080/",
          "height": 35
        },
        "outputId": "e53c846d-3a1a-4368-8b00-cf659d102907"
      },
      "execution_count": 78,
      "outputs": [
        {
          "output_type": "execute_result",
          "data": {
            "text/plain": [
              "'rahul'"
            ],
            "application/vnd.google.colaboratory.intrinsic+json": {
              "type": "string"
            }
          },
          "metadata": {},
          "execution_count": 78
        }
      ]
    },
    {
      "cell_type": "code",
      "source": [
        "Account.money"
      ],
      "metadata": {
        "colab": {
          "base_uri": "https://localhost:8080/"
        },
        "id": "nJyaD6d8R8p0",
        "outputId": "789eb07c-b491-4cb1-b70d-651313f5b6bf"
      },
      "execution_count": 79,
      "outputs": [
        {
          "output_type": "execute_result",
          "data": {
            "text/plain": [
              "20000"
            ]
          },
          "metadata": {},
          "execution_count": 79
        }
      ]
    },
    {
      "cell_type": "code",
      "source": [],
      "metadata": {
        "id": "bjK7Ju2bTIcT"
      },
      "execution_count": null,
      "outputs": []
    }
  ]
}